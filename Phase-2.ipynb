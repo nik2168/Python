{
 "cells": [
  {
   "cell_type": "markdown",
   "id": "75899423",
   "metadata": {},
   "source": [
    "## NUMPY array operations"
   ]
  },
  {
   "cell_type": "code",
   "execution_count": 2,
   "id": "0b5b5ada",
   "metadata": {},
   "outputs": [],
   "source": [
    "import numpy as np"
   ]
  },
  {
   "cell_type": "code",
   "execution_count": 5,
   "id": "4a8923ab",
   "metadata": {},
   "outputs": [
    {
     "name": "stdout",
     "output_type": "stream",
     "text": [
      "Print 1st element of 1st row :  5\n",
      "Entire row :  [4 5 6]\n",
      "Entire col :  [2 5]\n"
     ]
    }
   ],
   "source": [
    "# although in python we do have various inbuild operations for array, but in np we hae several more which makes life easy pizzy !\n",
    "\n",
    "np_arr = np.array([[1,2,3], [4,5,6]])\n",
    "\n",
    "print(\"Print 1st element of 1st row : \", np_arr[1,1])\n",
    "print(\"Entire row : \", np_arr[1])\n",
    "print(\"Entire col : \", np_arr[:, 1])"
   ]
  },
  {
   "cell_type": "markdown",
   "id": "c46f02e6",
   "metadata": {},
   "source": [
    "### SORTING"
   ]
  },
  {
   "cell_type": "code",
   "execution_count": 9,
   "id": "09fae95c",
   "metadata": {},
   "outputs": [
    {
     "name": "stdout",
     "output_type": "stream",
     "text": [
      "Sorted Array :  [1 3 3 5 6]\n",
      "Sorted 2d array row wise: \n",
      " [[1 3 7]\n",
      " [2 5 9]]\n",
      "Sorted 2d array col wise: \n",
      " [[5 2 1]\n",
      " [7 3 9]]\n"
     ]
    }
   ],
   "source": [
    "np_arr1d = np.array([3,1,3,5,6])\n",
    "print(\"Sorted Array : \", np.sort(np_arr1d))\n",
    "\n",
    "np_arr2d = np.array([[7,3,1], [5,2,9]])\n",
    "print(\"Sorted 2d array row wise: \\n\", np.sort(np_arr2d, axis=1))\n",
    "\n",
    "np_arr2d = np.array([[7,3,1], [5,2,9]])\n",
    "print(\"Sorted 2d array col wise: \\n\", np.sort(np_arr2d, axis=0))"
   ]
  },
  {
   "cell_type": "markdown",
   "id": "7342a000",
   "metadata": {},
   "source": [
    "## Filters"
   ]
  },
  {
   "cell_type": "code",
   "execution_count": 3,
   "id": "05370fd0",
   "metadata": {},
   "outputs": [
    {
     "name": "stdout",
     "output_type": "stream",
     "text": [
      "filtered data :  [ 2  4  6  8 10]\n"
     ]
    }
   ],
   "source": [
    "nums = np.array([1,2,3,4,5,6,7,8,9,10])\n",
    "\n",
    "print(\"filtered data : \", nums[nums % 2 == 0])"
   ]
  },
  {
   "cell_type": "markdown",
   "id": "15cc323d",
   "metadata": {},
   "source": [
    "Filtering by mask"
   ]
  },
  {
   "cell_type": "code",
   "execution_count": null,
   "id": "e895d44d",
   "metadata": {},
   "outputs": [
    {
     "name": "stdout",
     "output_type": "stream",
     "text": [
      "filtered data :  [ 6  7  8  9 10]\n",
      "index values  [2 3 4]\n",
      "(array([5, 6, 7, 8, 9]),)\n",
      "where filter :  [ 6  7  8  9 10]\n",
      "condition :  [ 1  2  3  4  5 12 14 16 18 20]\n"
     ]
    }
   ],
   "source": [
    "mask = nums > 5\n",
    "print(\"filtered data : \", nums[mask])\n",
    "\n",
    "indexing = [1, 2, 3]\n",
    "print(\"index values \", nums[indexing])\n",
    "\n",
    "np_where = np.where(nums > 5)\n",
    "print(np_where)\n",
    "print(\"where filter : \", nums[np_where])\n",
    "# output - \n",
    "# (array([ 6,  7,  8,  9, 10]),)\n",
    "\n",
    "# creating array with complete where condition, \n",
    "np_cond = np.where(nums > 5, nums * 2, nums)\n",
    "print(\"condition : \", np_cond)\n",
    "# output - \n",
    "# [ 2  4  6  8 10 12 14 16 18 20]"
   ]
  },
  {
   "cell_type": "markdown",
   "id": "be530cc4",
   "metadata": {},
   "source": [
    "## Adding and removing data"
   ]
  },
  {
   "cell_type": "code",
   "execution_count": 25,
   "id": "e4a8ee02",
   "metadata": {},
   "outputs": [
    {
     "name": "stdout",
     "output_type": "stream",
     "text": [
      "[1 2 3 4 5 6]\n",
      "array compatability :  True (3,)\n",
      "[[7]\n",
      " [8]]\n",
      "[7 8]\n",
      "removed element :  [1 2 4 5]\n"
     ]
    }
   ],
   "source": [
    "arr1 = np.array([1,2,3])\n",
    "arr2 = np.array([4,5,6])\n",
    "\n",
    "# adding\n",
    "arr3 = np.concat([arr1, arr2])\n",
    "\n",
    "print(arr3)\n",
    "\n",
    "# array compatability\n",
    "print(\"array compatability : \", arr1.shape == arr2.shape, arr1.shape)\n",
    "\n",
    "\n",
    "# adding new row in a matrix\n",
    "new_row = np.array([7,8,9])\n",
    "\n",
    "arr4 = np.vstack([[7], [8]]) # add row in array\n",
    "arr5 = np.hstack([[7], [8]]) # add col new array \n",
    "\n",
    "print(arr4)\n",
    "print(arr5)\n",
    "\n",
    "#removing\n",
    "\n",
    "arr = np.array([1,2,3,4,5])\n",
    "print(\"removed element : \", np.delete(arr, 2))\n",
    "\n",
    "\n"
   ]
  }
 ],
 "metadata": {
  "kernelspec": {
   "display_name": "venv",
   "language": "python",
   "name": "python3"
  },
  "language_info": {
   "codemirror_mode": {
    "name": "ipython",
    "version": 3
   },
   "file_extension": ".py",
   "mimetype": "text/x-python",
   "name": "python",
   "nbconvert_exporter": "python",
   "pygments_lexer": "ipython3",
   "version": "3.9.6"
  }
 },
 "nbformat": 4,
 "nbformat_minor": 5
}
