{
 "cells": [
  {
   "cell_type": "markdown",
   "id": "89937a05",
   "metadata": {},
   "source": [
    "## Numpy Array & Basics\n",
    "learn about numpy "
   ]
  },
  {
   "cell_type": "code",
   "execution_count": 2,
   "id": "f6b01cbf",
   "metadata": {},
   "outputs": [],
   "source": [
    "import numpy as np"
   ]
  },
  {
   "cell_type": "markdown",
   "id": "13c3f812",
   "metadata": {},
   "source": [
    "### Creating Array form list ..."
   ]
  },
  {
   "cell_type": "code",
   "execution_count": 3,
   "id": "ac92b832",
   "metadata": {},
   "outputs": [
    {
     "name": "stdout",
     "output_type": "stream",
     "text": [
      "1d array :  [1 2 3 4 5]\n",
      "2d array :  [[1 2 3]\n",
      " [4 5 6]]\n"
     ]
    }
   ],
   "source": [
    "arr_1d = np.array([1,2,3,4,5])\n",
    "print(\"1d array : \", arr_1d)\n",
    "\n",
    "arr_2d = np.array([[1,2,3],[4,5,6]])\n",
    "print(\"2d array : \", arr_2d)"
   ]
  },
  {
   "cell_type": "markdown",
   "id": "3aaca182",
   "metadata": {},
   "source": [
    "## List vs Numpy Array"
   ]
  },
  {
   "cell_type": "code",
   "execution_count": null,
   "id": "423ac526",
   "metadata": {},
   "outputs": [
    {
     "name": "stdout",
     "output_type": "stream",
     "text": [
      "list multiply :  [1, 2, 3, 1, 2, 3]\n",
      "np array multiply :  [2 4 6]\n"
     ]
    }
   ],
   "source": [
    "py_list = [1,2,3]\n",
    "print(\"list multiply : \", py_list * 2)  # double the list\n",
    "\n",
    "np_list = np.array([1,2,3])\n",
    "print(\"np array multiply : \", np_list * 2)   # multiple each ele seprately, required high cpu & gpu usage"
   ]
  },
  {
   "cell_type": "markdown",
   "id": "18100031",
   "metadata": {},
   "source": [
    "## Time Complexity"
   ]
  },
  {
   "cell_type": "code",
   "execution_count": 21,
   "id": "af8c71f8",
   "metadata": {},
   "outputs": [
    {
     "name": "stdout",
     "output_type": "stream",
     "text": [
      "List Multiply :  7.80555534362793\n",
      "Nump Multiply :  0.0822899341583252\n"
     ]
    }
   ],
   "source": [
    "import time\n",
    "start = time.time()\n",
    "\n",
    "py_list  = [i*2 for i in range(1, 10000000)]\n",
    "print(\"List Multiply : \", time.time() - start)\n",
    "\n",
    "start = time.time()\n",
    "np_list = np.arange(1, 10000000) * 2\n",
    "print(\"Nump Multiply : \", time.time() - start)"
   ]
  },
  {
   "cell_type": "markdown",
   "id": "02846cbc",
   "metadata": {},
   "source": [
    "## Creating Matrices"
   ]
  },
  {
   "cell_type": "code",
   "execution_count": 30,
   "id": "9f63de3c",
   "metadata": {},
   "outputs": [
    {
     "name": "stdout",
     "output_type": "stream",
     "text": [
      "zeros : \n",
      " [[0. 0. 0.]\n",
      " [0. 0. 0.]\n",
      " [0. 0. 0.]]\n",
      "ones : \n",
      " [[1. 1. 1.]\n",
      " [1. 1. 1.]\n",
      " [1. 1. 1.]]\n",
      "constants : \n",
      " [[3 3]\n",
      " [3 3]]\n",
      "random : \n",
      " [[0.45683576 0.4840519  0.52159344]\n",
      " [0.436433   0.8542296  0.16385542]\n",
      " [0.97119838 0.42586904 0.89373632]]\n",
      "sequence : \n",
      " [0 1 2 3 4 5 6 7 8 9]\n"
     ]
    }
   ],
   "source": [
    "# zero matrices\n",
    "\n",
    "zeros = np.zeros((3,3))\n",
    "print(\"zeros : \\n\", zeros)\n",
    "\n",
    "\n",
    "# ones array\n",
    "\n",
    "ones = np.ones((3,3))\n",
    "print(\"ones : \\n\", ones)\n",
    "\n",
    "\n",
    "constants = np.full((2,2), 3)\n",
    "print(\"constants : \\n\", constants)\n",
    "\n",
    "random = np.random.random((3,3))\n",
    "print(\"random : \\n\", random)\n",
    "\n",
    "sequence = np.arange(0, 10)\n",
    "print(\"sequence : \\n\", sequence)\n",
    "\n"
   ]
  },
  {
   "cell_type": "markdown",
   "id": "27c684df",
   "metadata": {},
   "source": [
    "### Vector, Matrices and Tensors"
   ]
  },
  {
   "cell_type": "code",
   "execution_count": 32,
   "id": "8846cb0b",
   "metadata": {},
   "outputs": [
    {
     "name": "stdout",
     "output_type": "stream",
     "text": [
      "scaller :  4\n",
      "vector :  [1 2 3]\n",
      "matrice : \n",
      " [[1 2 3]\n",
      " [4 5 6]\n",
      " [7 8 9]]\n",
      "tensor : \n",
      " [[[ 2  4]\n",
      "  [ 6  8]]\n",
      "\n",
      " [[10 12]\n",
      "  [14 16]]]\n"
     ]
    }
   ],
   "source": [
    "scaller = 4;     # just a single value is scaller, also 0-d tensor\n",
    "print(\"scaller : \", scaller)\n",
    "\n",
    "vector = np.array([1,2,3])  # 1-d also a tensor\n",
    "print(\"vector : \", vector)\n",
    "\n",
    "matrice = np.array([[1,2,3],[4,5,6],[7,8,9]])   # 2-d also a 2d tensor\n",
    "print(\"matrice : \\n\", matrice)\n",
    "\n",
    "tensor = np.array([[[1,2],[3,4]],[[5,6],[7,8]]]) * 2 # n-d matrix is tensor\n",
    "print(\"tensor : \\n\", tensor) "
   ]
  },
  {
   "cell_type": "markdown",
   "id": "1eede31b",
   "metadata": {},
   "source": [
    "### Properties of Matrix"
   ]
  },
  {
   "cell_type": "code",
   "execution_count": 34,
   "id": "cb863896",
   "metadata": {},
   "outputs": [
    {
     "name": "stdout",
     "output_type": "stream",
     "text": [
      "Shape :  (2, 3)\n",
      "Dimension :  2\n",
      "Size :  6\n",
      "Data Type :  int64\n"
     ]
    }
   ],
   "source": [
    "arr = np.array([[1,2,3], [4,5,6]])\n",
    "\n",
    "print(\"Shape : \", arr.shape)\n",
    "print(\"Dimension : \", arr.ndim)\n",
    "print(\"Size : \", arr.size)\n",
    "print(\"Data Type : \", arr.dtype)"
   ]
  },
  {
   "cell_type": "markdown",
   "id": "755f9ba4",
   "metadata": {},
   "source": [
    "### Array reshaping"
   ]
  },
  {
   "cell_type": "code",
   "execution_count": 46,
   "id": "c23eba4d",
   "metadata": {},
   "outputs": [
    {
     "name": "stdout",
     "output_type": "stream",
     "text": [
      "Original Array :  [0 1 2 3 4 5 6 7 8]\n",
      "Reshaped Array : \n",
      " [[0 1 2]\n",
      " [3 4 5]\n",
      " [6 7 8]]\n",
      "Flatten array : \n",
      " [0 1 2 3 4 5 6 7 8]\n",
      "Ravel :  [0 1 2 3 4 5 6 7 8]\n",
      "Transpose : \n",
      " [[0 3 6]\n",
      " [1 4 7]\n",
      " [2 5 8]]\n"
     ]
    }
   ],
   "source": [
    "arr = np.arange(9)\n",
    "print(\"Original Array : \", arr)\n",
    "\n",
    "new = arr.reshape(3,3)\n",
    "print(\"Reshaped Array : \\n\", new)\n",
    "\n",
    "# return copy\n",
    "flat = arr.flatten()\n",
    "print(\"Flatten array : \\n\", flat)\n",
    "\n",
    "# change in original array\n",
    "ravel = arr.ravel()\n",
    "print(\"Ravel : \", ravel)\n",
    "\n",
    "transpose = new.T\n",
    "print(\"Transpose : \\n\", transpose)\n",
    "\n"
   ]
  }
 ],
 "metadata": {
  "kernelspec": {
   "display_name": "venv",
   "language": "python",
   "name": "python3"
  },
  "language_info": {
   "codemirror_mode": {
    "name": "ipython",
    "version": 3
   },
   "file_extension": ".py",
   "mimetype": "text/x-python",
   "name": "python",
   "nbconvert_exporter": "python",
   "pygments_lexer": "ipython3",
   "version": "3.9.6"
  }
 },
 "nbformat": 4,
 "nbformat_minor": 5
}
